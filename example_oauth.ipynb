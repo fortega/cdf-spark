{
 "cells": [
  {
   "cell_type": "code",
   "execution_count": 1,
   "metadata": {},
   "outputs": [],
   "source": [
    "# Get your client secret from cognite learning\n",
    "# https://learn.cognite.com/path/data-engineer-basics-integrations/cognite-spark-data-source/1371418\n",
    "\n",
    "TENANT_ID = \"48d5043c-cf70-4c49-881c-c638f5796997\"\n",
    "CLIENT_ID = \"1b90ede3-271e-401b-81a0-a4d52bea3273\"\n",
    "CLIENT_SECRET = \"\"\n",
    "CDF_CLUSTER = \"api\"\n",
    "COGNITE_PROJECT = \"publicdata\"\n",
    "TOKEN_URI = f\"https://login.microsoftonline.com/{TENANT_ID}/oauth2/v2.0/token\"\n",
    "BASE_URL = f\"https://{CDF_CLUSTER}.cognitedata.com\"\n",
    "SCOPES = f\"{BASE_URL}/.default\"\n",
    "\n",
    "AUTH_OPTIONS = {\n",
    "    \"tokenUri\": TOKEN_URI,\n",
    "    \"clientId\": CLIENT_ID,\n",
    "    \"clientSecret\": CLIENT_SECRET,\n",
    "    \"project\": COGNITE_PROJECT,\n",
    "    \"scopes\": SCOPES,\n",
    "    \"baseUrl\": BASE_URL,\n",
    "}"
   ]
  },
  {
   "cell_type": "code",
   "execution_count": 2,
   "metadata": {},
   "outputs": [
    {
     "name": "stderr",
     "output_type": "stream",
     "text": [
      "Setting default log level to \"WARN\".\n",
      "To adjust logging level use sc.setLogLevel(newLevel). For SparkR, use setLogLevel(newLevel).\n",
      "24/10/10 02:05:10 WARN NativeCodeLoader: Unable to load native-hadoop library for your platform... using builtin-java classes where applicable\n"
     ]
    },
    {
     "data": {
      "text/plain": [
       "'3.5.3'"
      ]
     },
     "execution_count": 2,
     "metadata": {},
     "output_type": "execute_result"
    }
   ],
   "source": [
    "from pyspark.sql import SparkSession\n",
    "\n",
    "# Create spark session\n",
    "spark = SparkSession.builder.getOrCreate()\n",
    "spark.version"
   ]
  },
  {
   "cell_type": "code",
   "execution_count": 3,
   "metadata": {},
   "outputs": [
    {
     "name": "stderr",
     "output_type": "stream",
     "text": [
      "                                                                                \r"
     ]
    },
    {
     "data": {
      "text/plain": [
       "1115"
      ]
     },
     "execution_count": 3,
     "metadata": {},
     "output_type": "execute_result"
    }
   ],
   "source": [
    "# Read assets\n",
    "assets = spark.read.format(\n",
    "    \"cognite.spark.v1\"\n",
    ").options(\n",
    "    **AUTH_OPTIONS\n",
    ").option(\n",
    "    \"type\", \"assets\"\n",
    ").load()\n",
    "\n",
    "assets.count()"
   ]
  },
  {
   "cell_type": "code",
   "execution_count": 4,
   "metadata": {},
   "outputs": [
    {
     "name": "stderr",
     "output_type": "stream",
     "text": [
      "[Stage 3:>                                                          (0 + 1) / 1]\r"
     ]
    },
    {
     "name": "stdout",
     "output_type": "stream",
     "text": [
      "+----------------------+------------------+----------------+------------------+----------------------------------------------------+-------------------------------------------------------------------------------------------------------------------------------------------------------------------------------------------------------------------------------------------------------------------------------------------------------------------------------------------------------------------------------------------------------------------------------------------------------------------------------------------------------------------------------------------------------------------------------------------------------------------------------------------------------------------------------------------------------------------------------------------------------------------------------------+------+---------------+-------------------+-----------------------+----------------+----------+---------+------+\n",
      "|externalId            |name              |parentId        |parentExternalId  |description                                         |metadata                                                                                                                                                                                                                                                                                                                                                                                                                                                                                                                                                                                                                                                                                                                                                                             |source|id             |createdTime        |lastUpdatedTime        |rootId          |aggregates|dataSetId|labels|\n",
      "+----------------------+------------------+----------------+------------------+----------------------------------------------------+-------------------------------------------------------------------------------------------------------------------------------------------------------------------------------------------------------------------------------------------------------------------------------------------------------------------------------------------------------------------------------------------------------------------------------------------------------------------------------------------------------------------------------------------------------------------------------------------------------------------------------------------------------------------------------------------------------------------------------------------------------------------------------------+------+---------------+-------------------+-----------------------+----------------+----------+---------+------+\n",
      "|WMT:23-FAH-96158      |23-FAH-96158      |2855085822082778|WMT:23-FT-96158   |VRD - PH 1STSTG COMP BUFFER GAS DE : FLOW ALARM HIGH|{WMT_CATEGORY_ID -> 1152, WMT_SYSTEM_ID -> 4440, WMT_TAG_GLOBALID -> 1000000000293654, WMT_CONTRACTOR_ID -> 1686, ELC_STATUS_ID -> 1211, WMT_PO_ID -> 8309, WMT_AREA_ID -> 1600, WMT_TAG_ISACTIVE -> 1, SOURCE_DB -> workmate, WMT_TAG_NAME -> 23-FAH-96158, WMT_LOCATION_ID -> 1004, WMT_TAG_UPDATED_BY -> 1001, WMT_TAG_ID -> 700486, WMT_TAG_CREATED_DATE -> 2013-05-16 11:50:16, WMT_FUNC_CODE_ID -> 11405, WMT_TAG_HISTORYREQUIRED -> Y, WMT_TAG_ID_ANCESTOR -> 345870, SOURCE_TABLE -> wmate_dba.wmt_tag, WMT_TAG_UPDATED_DATE -> 2015-10-06 12:28:34, WMT_TAG_ISOWNEDBYPROJECT -> 0, WMT_TAG_CRITICALLINE -> N, WMT_TAG_DESC -> VRD - PH 1STSTG COMP BUFFER GAS DE : FLOW ALARM HIGH, WMT_TAG_MAINID -> 681760}                                                               |NULL  |907440257634833|1970-01-01 00:00:00|2022-07-29 14:39:11.532|6687602007296940|NULL      |NULL     |NULL  |\n",
      "|WMT:23-EZSL-92551B    |23-EZSL-92551B    |5901066000673985|WMT:23-ESDV-92551B|VRD - PH 1STSTGDISCHCLR GAS OUT EQ                  |{WMT_CATEGORY_ID -> 1116, WMT_SYSTEM_ID -> 4440, WMT_TAG_LOOP -> 92551B, WMT_TAG_GLOBALID -> 1000000000708490, WMT_CONTRACTOR_ID -> 1686, ELC_STATUS_ID -> 1211, WMT_PO_ID -> 8309, WMT_AREA_ID -> 1585, WMT_TAG_ISACTIVE -> 1, SOURCE_DB -> workmate, RES_ID -> 448303, WMT_TAG_NAME -> 23-EZSL-92551B, WMT_LOCATION_ID -> 1004, WMT_TAG_UPDATED_BY -> 4332, WMT_TAG_ID -> 345690, WMT_TAG_CREATED_DATE -> 2009-06-26 15:36:37, WMT_FUNC_CODE_ID -> 4646, WMT_TAG_HISTORYREQUIRED -> Y, WMT_TAG_ID_ANCESTOR -> 345658, WMT_SAFETYCRITICALELEMENT_ID -> 1060, SOURCE_TABLE -> wmate_dba.wmt_tag, WMT_TAG_UPDATED_DATE -> 2015-08-14 14:36:39, WMT_TAG_ISOWNEDBYPROJECT -> 0, WMT_TAG_CRITICALLINE -> N, WMT_TAG_DESC -> VRD - PH 1STSTGDISCHCLR GAS OUT EQ, WMT_TAG_MAINID -> 681760}|NULL  |907811206290958|1970-01-01 00:00:00|2022-07-29 14:39:11.617|6687602007296940|NULL      |NULL     |NULL  |\n",
      "|WMT:23-KA-9101-M01-60A|23-KA-9101-M01-60A|6191827428964450|WMT:23-KA-9101-M01|SOFT TAG VRD - PH HV SWGR 1STSTG MTR CURRENT        |{WMT_CATEGORY_ID -> 1152, WMT_SYSTEM_ID -> 4440, WMT_TAG_GLOBALID -> 1000000000723048, WMT_CONTRACTOR_ID -> 1686, ELC_STATUS_ID -> 1211, WMT_AREA_ID -> 1600, WMT_TAG_ISACTIVE -> 1, SOURCE_DB -> workmate, WMT_TAG_NAME -> 23-KA-9101-M01-60A, WMT_LOCATION_ID -> 1004, WMT_TAG_UPDATED_BY -> 1001, WMT_TAG_ID -> 364485, WMT_TAG_CREATED_DATE -> 2009-10-05 17:21:12, WMT_FUNC_CODE_ID -> 11275, WMT_TAG_HISTORYREQUIRED -> Y, WMT_TAG_ID_ANCESTOR -> 346066, SOURCE_TABLE -> wmate_dba.wmt_tag, WMT_TAG_UPDATED_DATE -> 2015-10-09 11:56:23, WMT_TAG_ISOWNEDBYPROJECT -> 0, WMT_TAG_CRITICALLINE -> N, WMT_TAG_DESC -> SOFT TAG VRD - PH HV SWGR 1STSTG MTR CURRENT, WMT_TAG_MAINID -> 681760}                                                                                    |NULL  |921216326141983|1970-01-01 00:00:00|2022-07-29 14:39:11.697|6687602007296940|NULL      |NULL     |NULL  |\n",
      "+----------------------+------------------+----------------+------------------+----------------------------------------------------+-------------------------------------------------------------------------------------------------------------------------------------------------------------------------------------------------------------------------------------------------------------------------------------------------------------------------------------------------------------------------------------------------------------------------------------------------------------------------------------------------------------------------------------------------------------------------------------------------------------------------------------------------------------------------------------------------------------------------------------------------------------------------------------+------+---------------+-------------------+-----------------------+----------------+----------+---------+------+\n",
      "only showing top 3 rows\n",
      "\n"
     ]
    },
    {
     "name": "stderr",
     "output_type": "stream",
     "text": [
      "                                                                                \r"
     ]
    }
   ],
   "source": [
    "assets.show(\n",
    "    n=3,\n",
    "    truncate=False\n",
    ")"
   ]
  }
 ],
 "metadata": {
  "kernelspec": {
   "display_name": "Python 3",
   "language": "python",
   "name": "python3"
  },
  "language_info": {
   "codemirror_mode": {
    "name": "ipython",
    "version": 3
   },
   "file_extension": ".py",
   "mimetype": "text/x-python",
   "name": "python",
   "nbconvert_exporter": "python",
   "pygments_lexer": "ipython3",
   "version": "3.8.10"
  }
 },
 "nbformat": 4,
 "nbformat_minor": 2
}
